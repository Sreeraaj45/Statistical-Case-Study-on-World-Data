{
 "cells": [
  {
   "cell_type": "markdown",
   "metadata": {
    "id": "FrnR1Ft8CQMu"
   },
   "source": [
    "# **Statistics Case Study - Unit II**\n",
    "\n",
    "**Team Members:**\n",
    "\n",
    "* Gangineni Aravind (21bcs039),\n",
    "* Makam Sujith (21BCS061),\n",
    "* Manepalli R V Sreeraaj (21BCS064)\n",
    "\n",
    "\n",
    "**We have Considered Various Places In World:**\n",
    "\n",
    "Index :\n",
    "\n",
    "**Z-Test for Hypothesis** :\n",
    "\n",
    "1.   One Sample Z-Test (Unknown Variance)\n",
    "2.   Two Sample Z-Test (Same population)\n",
    "3.   Two Sample Z-Test (Different population)\n",
    "\n",
    "**T-Test for Hypothesis** :\n",
    "\n",
    "\n",
    "1.   One Sample T-Test (Unknown Variance)\n",
    "2.   Two Sample T-Test (Same population)\n",
    "3.   Two Sample T-Test (Different population)\n",
    "\n",
    "\n",
    "**Proportion Test for Hypothesis**:\n",
    "\n",
    "1. One Sample Proportion-Test (Unknown Variance)\n",
    "\n",
    "\n",
    "\n",
    "\n",
    "\n",
    "\n"
   ]
  },
  {
   "cell_type": "markdown",
   "metadata": {
    "id": "M3rqniDsSQd_"
   },
   "source": [
    "## One Sample Z-Test (Unknown Variance) :\n",
    "\n",
    "H0 (Null Hypothesis) : The average Birth Rate is more than 40.\n",
    "\n",
    "H1 (Alternate Hypothesis) : The average Birth Rate is not more than 40.\n"
   ]
  },
  {
   "cell_type": "markdown",
   "metadata": {
    "id": "9jcyUudUUXBa"
   },
   "source": [
    "Importing the necessary python modules"
   ]
  },
  {
   "cell_type": "code",
   "execution_count": 39,
   "metadata": {
    "id": "3zyuBoS6Ruw0"
   },
   "outputs": [],
   "source": [
    "import pandas as pd\n",
    "import numpy as np\n",
    "from scipy import stats as ss\n",
    "import statistics as st\n",
    "import math\n",
    "from sklearn.preprocessing import StandardScaler"
   ]
  },
  {
   "cell_type": "markdown",
   "metadata": {
    "id": "lX70t0jhUsyT"
   },
   "source": [
    "## Defining the One Sample Z-Test function"
   ]
  },
  {
   "cell_type": "code",
   "execution_count": 40,
   "metadata": {
    "id": "TI5E6efgVato"
   },
   "outputs": [],
   "source": [
    "def one_sample_z_test(s_mean, μ, s_dev, s_size):\n",
    "  den = ((s_dev) / math.sqrt(s_size-1))\n",
    "  z_cal = abs(s_mean - μ) / den\n",
    "  return round(z_cal, 5)"
   ]
  },
  {
   "cell_type": "markdown",
   "metadata": {
    "id": "bE7Q_RAWWeoy"
   },
   "source": [
    "Loading and storing the dataset and performing random sampling on it"
   ]
  },
  {
   "cell_type": "code",
   "execution_count": 41,
   "metadata": {
    "colab": {
     "base_uri": "https://localhost:8080/"
    },
    "id": "Z6gLfXyPWcwm",
    "outputId": "46a11f51-7c69-449f-a647-a8a6ccd10eaf"
   },
   "outputs": [
    {
     "data": {
      "text/plain": [
       "array([29.08, 14.  , 38.54, 29.41, 21.6 , 13.99, 40.73, 33.24, 10.  ,\n",
       "       24.56, 12.  , 12.43, 10.3 , 17.02, 12.5 , 10.1 , 32.66, 24.82,\n",
       "       35.13, 11.78, 17.86, 11.3 , 10.9 , 13.97,  7.4 , 21.98, 19.97,\n",
       "       10.1 ,  8.1 , 16.75, 17.6 , 41.54, 35.74, 32.49, 10.2 , 10.7 ,\n",
       "       13.47, 26.81, 35.39, 13.97,  8.9 ,  8.11, 13.92, 41.18, 10.65,\n",
       "       21.28, 42.17, 23.55, 16.1 , 17.55])"
      ]
     },
     "execution_count": 41,
     "metadata": {},
     "output_type": "execute_result"
    }
   ],
   "source": [
    "file_path = \"world-data-2023-1.csv\"\n",
    "data = pd.read_csv(file_path)\n",
    "\n",
    "alpha = 0.05 # Level of significance\n",
    "\n",
    "pop_mean = 40.0 # Mean we are testing against (μ)\n",
    "\n",
    "sample_size = 50\n",
    "\n",
    "z_tabulated = 1.645 # Z_tab @ alpha = 0.05 and one-tailed test\n",
    "\n",
    "sample = np.random.choice(data['Birth Rate'], size=sample_size, replace=False)\n",
    "\n",
    "sample\n"
   ]
  },
  {
   "cell_type": "markdown",
   "metadata": {
    "id": "w4pyg3RiYAWn"
   },
   "source": [
    "Calculating necessary values and performing the test"
   ]
  },
  {
   "cell_type": "code",
   "execution_count": 42,
   "metadata": {
    "colab": {
     "base_uri": "https://localhost:8080/"
    },
    "id": "e2--bFkcXG37",
    "outputId": "529557aa-98bb-4b5d-a172-134557b4a635"
   },
   "outputs": [
    {
     "name": "stdout",
     "output_type": "stream",
     "text": [
      "Z_Calculated Value :  12.95886\n",
      "Z_Tabulated Value :  1.645\n"
     ]
    }
   ],
   "source": [
    "mean = np.mean(sample)\n",
    "\n",
    "std_dev = np.std(sample, ddof=1) # ddof=1 for sample standard deviation\n",
    "\n",
    "z_calculated = one_sample_z_test(mean, pop_mean, std_dev, sample_size)\n",
    "\n",
    "print(\"Z_Calculated Value : \", z_calculated)\n",
    "\n",
    "print(\"Z_Tabulated Value : \", z_tabulated)"
   ]
  },
  {
   "cell_type": "code",
   "execution_count": 43,
   "metadata": {
    "id": "5DadglihZQcQ"
   },
   "outputs": [],
   "source": [
    "# Perform the hypothesis test\n",
    "if abs(z_calculated) >= z_tabulated:\n",
    "    result = \"Reject the null hypothesis (H0) (or) Accepting alternate hypothesis (H1)\"\n",
    "else:\n",
    "    result = \"Accept the null hypothesis (H0)\""
   ]
  },
  {
   "cell_type": "code",
   "execution_count": 44,
   "metadata": {
    "colab": {
     "base_uri": "https://localhost:8080/"
    },
    "id": "yPzkpje8ZVOX",
    "outputId": "67803908-69f7-4526-e50a-931bae94f3e6"
   },
   "outputs": [
    {
     "name": "stdout",
     "output_type": "stream",
     "text": [
      "Result :  Reject the null hypothesis (H0) (or) Accepting alternate hypothesis (H1)\n"
     ]
    }
   ],
   "source": [
    "print('Result : ' , result)"
   ]
  },
  {
   "cell_type": "markdown",
   "metadata": {
    "id": "WRa2w0JkyYmT"
   },
   "source": [
    "Testing with the confidence interval.\n"
   ]
  },
  {
   "cell_type": "code",
   "execution_count": 45,
   "metadata": {
    "colab": {
     "base_uri": "https://localhost:8080/"
    },
    "id": "xYAiP4txycn7",
    "outputId": "6c7f305a-1b99-4b72-db23-fd32ed09f88c"
   },
   "outputs": [
    {
     "name": "stdout",
     "output_type": "stream",
     "text": [
      "Confidence Interval - (95%) : \n",
      "17.791541854534707  < μ <  22.75005814546529\n"
     ]
    }
   ],
   "source": [
    "limit = z_tabulated * (std_dev/(math.sqrt(sample_size)))\n",
    "\n",
    "lower_limit = mean - limit\n",
    "upper_limit = mean + limit\n",
    "\n",
    "print(\"Confidence Interval - (95%) : \")\n",
    "\n",
    "print(lower_limit , \" < μ < \" , upper_limit)"
   ]
  },
  {
   "cell_type": "markdown",
   "metadata": {
    "id": "Z71PRcL_aC9u"
   },
   "source": [
    "### Two Sample Z-Test (Same population) :\n",
    "*(Two Samples are drawn from the same population)*\n",
    "\n",
    "\n",
    "H0 (Null Hypothesis) : The average Birth Rate both samples is same.\n",
    "\n",
    "H1 (Alternate Hypothesis) : The average Birth Rate both sample is not same.\n"
   ]
  },
  {
   "cell_type": "markdown",
   "metadata": {
    "id": "zFKc3gbdx-AR"
   },
   "source": [
    "Defining Two Sample (Same Population) Z-Test function."
   ]
  },
  {
   "cell_type": "code",
   "execution_count": 46,
   "metadata": {
    "id": "RskEk_uUw7zG"
   },
   "outputs": [],
   "source": [
    "def two_sample_z_same_population(s_mean1, s_mean2, s_size1, s_size2, s_dev1, s_dev2):\n",
    "    temp = (1/(s_size1-1)) + (1/(s_size2-1))\n",
    "    df = s_size1 + s_size2 - 2\n",
    "    var = (s_size1 - 1) * s_dev1*s_dev1 + (s_size2 - 1) * s_dev2*s_dev2\n",
    "    sP = var/df # Pooled Variance\n",
    "    z_cal = abs(s_mean1 - s_mean2) / (sP * math.sqrt(temp))\n",
    "    return [round(z_cal, 5),sP]  # Round to 5 decimal places"
   ]
  },
  {
   "cell_type": "markdown",
   "metadata": {
    "id": "wn2Wzzvu0X3j"
   },
   "source": [
    "Loading and storing the dataset and performing random sampling on it\n"
   ]
  },
  {
   "cell_type": "code",
   "execution_count": 47,
   "metadata": {
    "colab": {
     "base_uri": "https://localhost:8080/"
    },
    "id": "eUyOaPIY0dMY",
    "outputId": "90c1d48c-12d9-4c1d-b7b2-c7b2873e2368"
   },
   "outputs": [
    {
     "name": "stdout",
     "output_type": "stream",
     "text": [
      "\n",
      "Random Sample 1:\n",
      "[10.   34.12 18.25 33.69 11.78 24.28 12.5  31.61 13.99 10.7   9.   21.28\n",
      " 14.   20.79  8.9  10.9  41.54 40.73  7.4  17.6  10.1  10.3  10.65  8.11\n",
      " 18.78 13.97 12.43 10.9  33.24 36.22 10.2  19.97 29.08 35.39  9.5  33.04\n",
      " 12.   13.92 10.   17.26]\n",
      "\n",
      "Random Sample 2:\n",
      "[12.43 32.86 10.1  35.39 11.78 18.78 28.75 33.24 40.73 10.2  17.26 41.54\n",
      " 13.47 24.56 24.35  8.9  16.1  13.97 17.86  8.11 14.   12.6  35.74 36.22\n",
      " 26.81 33.69 10.   12.   13.92  9.6  16.75 32.49 31.61 32.66 10.1 ]\n"
     ]
    }
   ],
   "source": [
    "# file_path = '/content/dataset_bank.csv'\n",
    "data_m = pd.read_csv(file_path)\n",
    "\n",
    "alpha_m = 0.10 # Level of significance\n",
    "\n",
    "z_tabulated_m = 1.282 # Z_tab @ alpha = 0.10 and one-tailed test\n",
    "\n",
    "#married_age_data = data_m.loc[data_m['marital'] == 'married', 'age'].to_numpy()\n",
    "birth_rate = data['Birth Rate']\n",
    "\n",
    "# Create two random samples with sizes greater than 30\n",
    "msample1 = np.random.choice(birth_rate, size=40, replace=False)\n",
    "msample2 = np.random.choice(birth_rate, size=35, replace=False)\n",
    "\n",
    "# Display the two random samples\n",
    "print(\"\\nRandom Sample 1:\")\n",
    "print(msample1)\n",
    "print(\"\\nRandom Sample 2:\")\n",
    "print(msample2)\n",
    "\n",
    "mean_1 = np.mean(msample1)\n",
    "mean_2 = np.mean(msample2)\n",
    "\n",
    "std_dev1 = np.std(msample1)\n",
    "std_dev2 = np.std(msample2)\n",
    "\n",
    "n1 = len(msample1)\n",
    "n2 = len(msample2)\n"
   ]
  },
  {
   "cell_type": "markdown",
   "metadata": {
    "id": "DspwSwi73DNL"
   },
   "source": [
    "Calculating necessary values and performing the test"
   ]
  },
  {
   "cell_type": "code",
   "execution_count": 48,
   "metadata": {
    "colab": {
     "base_uri": "https://localhost:8080/"
    },
    "id": "foS9xoo73Dtc",
    "outputId": "046f9517-da2f-42b8-e47e-5bbd534c41fb"
   },
   "outputs": [
    {
     "name": "stdout",
     "output_type": "stream",
     "text": [
      "Z_Calculated Value :  0.10592\n",
      "Z_Tabulated Value :  1.282\n"
     ]
    }
   ],
   "source": [
    "res = two_sample_z_same_population(mean_1, mean_2, n1, n2, std_dev1, std_dev2)\n",
    "\n",
    "z_calculated_m = res[0]\n",
    "\n",
    "print(\"Z_Calculated Value : \", z_calculated_m)\n",
    "\n",
    "print(\"Z_Tabulated Value : \", z_tabulated_m)"
   ]
  },
  {
   "cell_type": "code",
   "execution_count": 49,
   "metadata": {
    "id": "vbv18zQ735Yl"
   },
   "outputs": [],
   "source": [
    "# Perform the hypothesis test\n",
    "if abs(z_calculated_m) >= z_tabulated_m:\n",
    "    result_m = \"Reject the null hypothesis (H0) (or) Accepting alternate hypothesis (H1)\"\n",
    "else:\n",
    "    result_m = \"Accept the null hypothesis (H0)\""
   ]
  },
  {
   "cell_type": "code",
   "execution_count": 50,
   "metadata": {
    "colab": {
     "base_uri": "https://localhost:8080/"
    },
    "id": "RJgnsROS38fz",
    "outputId": "27369bd8-b82f-4905-cee8-29ce95d6f73a"
   },
   "outputs": [
    {
     "name": "stdout",
     "output_type": "stream",
     "text": [
      "Result :  Accept the null hypothesis (H0)\n"
     ]
    }
   ],
   "source": [
    "print('Result : ' , result_m)"
   ]
  },
  {
   "cell_type": "markdown",
   "metadata": {
    "id": "LaZ9bxmn4Ivv"
   },
   "source": [
    "Testing with the confidence interval."
   ]
  },
  {
   "cell_type": "code",
   "execution_count": 51,
   "metadata": {
    "colab": {
     "base_uri": "https://localhost:8080/"
    },
    "id": "wi5j58kV4Opr",
    "outputId": "75b728d1-8273-4989-9e40-c4cf0aad27c6"
   },
   "outputs": [
    {
     "name": "stdout",
     "output_type": "stream",
     "text": [
      "Confidence Interval - (90%) : \n",
      "0.20545614024899672  < μ1 - μ2 <  5.163972431179582\n"
     ]
    }
   ],
   "source": [
    "sP = res[1] # Pooled Variance\n",
    "m_mean = abs(mean_1 - mean_2)\n",
    "\n",
    "temp = (1/(n1-1)) + (1/(n2-1))\n",
    "\n",
    "m_limit = z_tabulated_m * (sP * math.sqrt(temp))\n",
    "\n",
    "lower_limit = m_mean - limit\n",
    "upper_limit = m_mean + limit\n",
    "\n",
    "print(\"Confidence Interval - (90%) : \")\n",
    "\n",
    "print(lower_limit , \" < μ1 - μ2 < \" , upper_limit)"
   ]
  },
  {
   "cell_type": "markdown",
   "metadata": {
    "id": "-78drnHQ5e5l"
   },
   "source": [
    "### Two Sample Z-Test (Different population) :\n",
    "*(Two Samples are drawn from the different population)*\n",
    "\n",
    "\n",
    "\n",
    "H0 (Null Hypothesis) : The average of both samples is same.\n",
    "\n",
    "H1 (Alternate Hypothesis) : The average of both sample is not same."
   ]
  },
  {
   "cell_type": "markdown",
   "metadata": {
    "id": "DtsVvDiS50fR"
   },
   "source": [
    "Defining Two Sample (*Different* Population) Z-Test function."
   ]
  },
  {
   "cell_type": "code",
   "execution_count": 52,
   "metadata": {
    "id": "o918p5rK5sxJ"
   },
   "outputs": [],
   "source": [
    "def two_sample_z_different_population(s_mean1, s_mean2, s_size1, s_size2, s_dev1, s_dev2):\n",
    "  temp1 = ((s_dev1)**2 / (s_size1 - 1))\n",
    "  temp2 = ((s_dev2)**2 / (s_size2 - 1))\n",
    "  den = math.sqrt(temp1 + temp2)\n",
    "  z_cal = abs(s_mean1 - s_mean2) / den\n",
    "  return [round(z_cal, 5), den]  # Round to 5 decimal places"
   ]
  },
  {
   "cell_type": "markdown",
   "metadata": {
    "id": "mqrEeT2d_BNv"
   },
   "source": [
    "Loading and storing the dataset and performing random sampling on it"
   ]
  },
  {
   "cell_type": "code",
   "execution_count": 53,
   "metadata": {
    "colab": {
     "base_uri": "https://localhost:8080/"
    },
    "id": "ypH_eCom_H91",
    "outputId": "6d29e3a6-f920-4cb3-cc61-e3e5b27d603c"
   },
   "outputs": [
    {
     "name": "stdout",
     "output_type": "stream",
     "text": [
      "\n",
      "Random Sample 1: (Birth)\n",
      "[ 9.2  24.56 33.69 12.6  40.73  9.5  10.   21.75 14.   21.6  18.18 33.24\n",
      " 10.1  35.35 16.75 17.55 33.04 21.28 29.08 10.3  35.13 20.8  10.3  10.7\n",
      "  9.6   8.1   9.   18.07 10.9  11.78 18.78 42.17  8.9  29.41 10.2  37.93\n",
      " 13.92  8.11 19.72 12.   19.49 17.26]\n",
      "\n",
      "Random Sample 2: (Life)\n",
      "[63.7 73.8 70.5 61.5 84.2 78.9 82.1 80.  64.3 67.6 60.8 72.3 61.2 64.5\n",
      " 67.3 72.9 69.8 71.2 74.4 74.7 73.6 82.8 60.4 54.  60.4 73.1 78.1 66.2\n",
      " 82.7 76.7 58.  79.1 81.9 75.  69.3 82.3]\n"
     ]
    }
   ],
   "source": [
    "# file_path = '/content/dataset_bank.csv'\n",
    "data_m = pd.read_csv(file_path)\n",
    "\n",
    "alpha_m = 0.10 # Level of significance\n",
    "\n",
    "z_tabulated_m = 1.282 # Z_tab @ alpha = 0.10 and one-tailed test\n",
    "\n",
    "birth_rate = data['Birth Rate']\n",
    "life_expectancy =data['Life expectancy']\n",
    "\n",
    "\n",
    "# Create two random samples with sizes greater than 30\n",
    "m_sample1 = np.random.choice(birth_rate, size=42, replace=False)\n",
    "m_sample2 = np.random.choice(life_expectancy, size=36, replace=False)\n",
    "\n",
    "# Display the two random samples\n",
    "print(\"\\nRandom Sample 1: (Birth)\")\n",
    "print(m_sample1)\n",
    "print(\"\\nRandom Sample 2: (Life)\")\n",
    "print(m_sample2)\n",
    "\n",
    "mean_1 = np.mean(m_sample1)\n",
    "mean_2 = np.mean(m_sample2)\n",
    "\n",
    "std_dev1 = np.std(msample1)\n",
    "std_dev2 = np.std(msample2)\n",
    "\n",
    "n1 = len(m_sample1)\n",
    "n2 = len(m_sample2)"
   ]
  },
  {
   "cell_type": "markdown",
   "metadata": {
    "id": "uaByVK1kAX6J"
   },
   "source": [
    "Calculating necessary values and performing the test"
   ]
  },
  {
   "cell_type": "code",
   "execution_count": 54,
   "metadata": {
    "colab": {
     "base_uri": "https://localhost:8080/"
    },
    "id": "zGWRJGBLAVM3",
    "outputId": "88920392-e89b-4a73-dbd2-2491a39c488e"
   },
   "outputs": [
    {
     "name": "stdout",
     "output_type": "stream",
     "text": [
      "Z_Calculated Value :  21.77348\n",
      "Z_Tabulated Value :  1.282\n"
     ]
    }
   ],
   "source": [
    "t_res = two_sample_z_different_population(mean_1, mean_2, n1, n2, std_dev1, std_dev2)\n",
    "\n",
    "z_calculated_ms = t_res[0]\n",
    "\n",
    "print(\"Z_Calculated Value : \", z_calculated_ms)\n",
    "\n",
    "print(\"Z_Tabulated Value : \", z_tabulated_m)"
   ]
  },
  {
   "cell_type": "code",
   "execution_count": 55,
   "metadata": {
    "colab": {
     "base_uri": "https://localhost:8080/"
    },
    "id": "Ihpn1EABA1L7",
    "outputId": "a31de5d8-74ed-4875-9d49-2051043b12bc"
   },
   "outputs": [
    {
     "name": "stdout",
     "output_type": "stream",
     "text": [
      "Result :  Reject the null hypothesis (H0) (or) Accepting alternate hypothesis (H1)\n"
     ]
    }
   ],
   "source": [
    "# Perform the hypothesis test\n",
    "if abs(z_calculated_ms) >= z_tabulated_m:\n",
    "    result_ms = \"Reject the null hypothesis (H0) (or) Accepting alternate hypothesis (H1)\"\n",
    "else:\n",
    "    result_ms = \"Accept the null hypothesis (H0)\"\n",
    "\n",
    "print('Result : ' , result_ms)"
   ]
  },
  {
   "cell_type": "markdown",
   "metadata": {
    "id": "SqgsU1NdBAIv"
   },
   "source": [
    "Testing with the confidence interval."
   ]
  },
  {
   "cell_type": "code",
   "execution_count": 56,
   "metadata": {
    "colab": {
     "base_uri": "https://localhost:8080/"
    },
    "id": "k0XIItPMBB3J",
    "outputId": "6d6fcd5d-dc9c-48de-9694-eca2a2a85c91"
   },
   "outputs": [
    {
     "name": "stdout",
     "output_type": "stream",
     "text": [
      "Confidence Interval - (90%) : \n",
      "48.26388862276619  < μ1 - μ2 <  56.152619313741766\n"
     ]
    }
   ],
   "source": [
    "tent = t_res[1]\n",
    "\n",
    "limit_ms = z_tabulated * (tent)\n",
    "\n",
    "ms_mean = abs(mean_1 - mean_2)\n",
    "\n",
    "lower_limit = ms_mean - limit_ms\n",
    "upper_limit = ms_mean + limit_ms\n",
    "\n",
    "print(\"Confidence Interval - (90%) : \")\n",
    "\n",
    "print(lower_limit , \" < μ1 - μ2 < \" , upper_limit)"
   ]
  },
  {
   "cell_type": "markdown",
   "metadata": {
    "id": "P2iqivuaByR3"
   },
   "source": [
    "### One Sample T-Test (Unknown Variance) :\n",
    "\n",
    "H0 (Null Hypothesis) : The average CPIis more than 280 seconds.\n",
    "\n",
    "H1 (Alternate Hypothesis) : The average CPI is not more than 280 seconds.\n"
   ]
  },
  {
   "cell_type": "markdown",
   "metadata": {
    "id": "GPdWYe8wCcvj"
   },
   "source": [
    "Defining One Sample Z-Test function."
   ]
  },
  {
   "cell_type": "code",
   "execution_count": 57,
   "metadata": {
    "id": "-KlSTt5zCV1K"
   },
   "outputs": [],
   "source": [
    "def one_sample_t_test(s_mean, μ, s_dev, s_size):\n",
    "  den = ((s_dev) / math.sqrt(s_size-1))\n",
    "  t_cal = abs(s_mean - μ) / den\n",
    "  return round(t_cal, 5)"
   ]
  },
  {
   "cell_type": "markdown",
   "metadata": {
    "id": "nWI1P4ZXCmV2"
   },
   "source": [
    "Loading and storing the dataset and performing random sampling on it"
   ]
  },
  {
   "cell_type": "code",
   "execution_count": 58,
   "metadata": {
    "colab": {
     "base_uri": "https://localhost:8080/"
    },
    "id": "WaDdiBwKClPL",
    "outputId": "1b57aea4-0251-4ae0-a5da-6c1eeb7fb5a4"
   },
   "outputs": [
    {
     "name": "stdout",
     "output_type": "stream",
     "text": [
      "[106.58 113.45 135.02 105.48 111.65 129.   119.8  119.05 261.73 105.68\n",
      " 149.75 129.91 122.14 116.76 132.3  268.36 121.46 167.4 ]\n"
     ]
    }
   ],
   "source": [
    "# file_path = '/content/dataset_bank.csv'\n",
    "data = pd.read_csv(file_path)\n",
    "\n",
    "alpha = 0.05 # Level of significance\n",
    "\n",
    "pop_duration = 280.0 # Mean we are testing against (μ)\n",
    "\n",
    "sample_size = 18\n",
    "\n",
    "t_tabulated = 1.7396 # Z_tab @ alpha = 0.05 and one-tailed test\n",
    "\n",
    "sample = np.random.choice(data['CPI'], size=sample_size, replace=False)\n",
    "\n",
    "print(sample)\n"
   ]
  },
  {
   "cell_type": "markdown",
   "metadata": {
    "id": "Q7Cv-mQaD12M"
   },
   "source": [
    "Calculating necessary values and performing the test"
   ]
  },
  {
   "cell_type": "code",
   "execution_count": 59,
   "metadata": {
    "colab": {
     "base_uri": "https://localhost:8080/"
    },
    "id": "-3jhTWXmDBwZ",
    "outputId": "811b4433-2ad2-449a-8dc9-fd199019a3b8"
   },
   "outputs": [
    {
     "name": "stdout",
     "output_type": "stream",
     "text": [
      "T_Calculated Value :  8.53333\n",
      "T_Tabulated Value :  1.7396\n"
     ]
    }
   ],
   "source": [
    "mean = np.mean(sample)\n",
    "\n",
    "std_dev = np.std(sample, ddof=1) # ddof=1 for sample standard deviation\n",
    "\n",
    "t_calculated = one_sample_t_test(mean, pop_mean, std_dev, sample_size)\n",
    "\n",
    "df = sample_size - 1\n",
    "\n",
    "print(\"T_Calculated Value : \", t_calculated)\n",
    "\n",
    "print(\"T_Tabulated Value : \", t_tabulated)"
   ]
  },
  {
   "cell_type": "code",
   "execution_count": 60,
   "metadata": {
    "colab": {
     "base_uri": "https://localhost:8080/"
    },
    "id": "fr1TDL1Lv_8V",
    "outputId": "67ed372b-7f30-4ee9-c782-bb137768b627"
   },
   "outputs": [
    {
     "name": "stdout",
     "output_type": "stream",
     "text": [
      "Result :  Reject the null hypothesis (H0) (or) Accepting alternate hypothesis (H1)\n"
     ]
    }
   ],
   "source": [
    "# Perform the hypothesis test\n",
    "if abs(t_calculated) >= t_tabulated:\n",
    "    result = \"Reject the null hypothesis (H0) (or) Accepting alternate hypothesis (H1)\"\n",
    "else:\n",
    "    result = \"Accept the null hypothesis (H0)\"\n",
    "\n",
    "print('Result : ' , result)"
   ]
  },
  {
   "cell_type": "markdown",
   "metadata": {
    "id": "eBNY5-zev3Gv"
   },
   "source": [
    "Testing using the confidence interval!"
   ]
  },
  {
   "cell_type": "code",
   "execution_count": 61,
   "metadata": {
    "colab": {
     "base_uri": "https://localhost:8080/"
    },
    "id": "fvvhDGbKvTW_",
    "outputId": "38deada0-016a-4aff-c4ca-7489119ec93a"
   },
   "outputs": [
    {
     "name": "stdout",
     "output_type": "stream",
     "text": [
      "Confidence Interval - (95%) : \n",
      "119.98883565460834  < μ <  159.51338656761385\n"
     ]
    }
   ],
   "source": [
    "limit = t_tabulated * (std_dev/(math.sqrt(sample_size)))\n",
    "\n",
    "lower_limit = mean - limit\n",
    "upper_limit = mean + limit\n",
    "\n",
    "print(\"Confidence Interval - (95%) : \")\n",
    "\n",
    "print(lower_limit , \" < μ < \" , upper_limit)"
   ]
  },
  {
   "cell_type": "markdown",
   "metadata": {
    "id": "_LuWx0b_xOLs"
   },
   "source": [
    "### Two Sample T-Test (Same population) :\n",
    "*(Two Samples are drawn from the same population)*\n",
    "\n",
    "\n",
    "H0 (Null Hypothesis) : The average CPI of both samples is same.\n",
    "\n",
    "H1 (Alternate Hypothesis) : The average CPI of both sample is not same.\n"
   ]
  },
  {
   "cell_type": "markdown",
   "metadata": {
    "id": "Cfiqq6yvxksE"
   },
   "source": [
    "Defining Two Sample (Same Population) Z-Test function."
   ]
  },
  {
   "cell_type": "code",
   "execution_count": 62,
   "metadata": {
    "id": "4_QSz-P_xPiM"
   },
   "outputs": [],
   "source": [
    "def two_sample_t_same_population(s_mean1, s_mean2, s_size1, s_size2, s_dev1, s_dev2):\n",
    "    temp = (1/(s_size1-1)) + (1/(s_size2-1))\n",
    "    df = s_size1 + s_size2 - 2\n",
    "    var = (s_size1 - 1) * s_dev1*s_dev1 + (s_size2 - 1) * s_dev2*s_dev2\n",
    "    sP = var/df # Pooled Variance\n",
    "    t_cal = abs(s_mean1 - s_mean2) / (sP * math.sqrt(temp))\n",
    "    return [round(t_cal, 5),sP]  # Round to 5 decimal places"
   ]
  },
  {
   "cell_type": "markdown",
   "metadata": {
    "id": "OCOXgvEQyBlP"
   },
   "source": [
    "Loading and storing the dataset and performing random sampling on it."
   ]
  },
  {
   "cell_type": "code",
   "execution_count": 63,
   "metadata": {
    "colab": {
     "base_uri": "https://localhost:8080/"
    },
    "id": "XxLbT8wpx3Lk",
    "outputId": "5fd12837-3f65-43a0-a29e-55607f2d0004"
   },
   "outputs": [
    {
     "name": "stdout",
     "output_type": "stream",
     "text": [
      "\n",
      "Random Sample 1:\n",
      "[140.95 124.35 182.75 261.73 162.47 115.09 119.05 141.54 179.68 111.23\n",
      " 418.34 119.8  133.85]\n",
      "\n",
      "Random Sample 2:\n",
      "[135.87 148.32 149.75 184.33 110.71 550.93 162.47 172.73 142.92 113.45\n",
      " 119.8  155.68 129.91 140.95]\n"
     ]
    }
   ],
   "source": [
    "# file_path = '/content/dataset_bank.csv'\n",
    "data_m = pd.read_csv(file_path)\n",
    "\n",
    "alpha_m = 0.10 # Level of significance\n",
    "\n",
    "t_tabulated_m = 2.7874 # Z_tab @ alpha = 0.10 and one-tailed test @ d.f = 25\n",
    "\n",
    "cpi = data['CPI']\n",
    "\n",
    "# Create two random samples with sizes greater than 30\n",
    "msample1 = np.random.choice(cpi, size=13, replace=False)\n",
    "msample2 = np.random.choice(cpi, size=14, replace=False)\n",
    "\n",
    "# Display the two random samples\n",
    "print(\"\\nRandom Sample 1:\")\n",
    "print(msample1)\n",
    "print(\"\\nRandom Sample 2:\")\n",
    "print(msample2)\n",
    "\n",
    "mean_1 = np.mean(msample1)\n",
    "mean_2 = np.mean(msample2)\n",
    "\n",
    "std_dev1 = np.std(msample1)\n",
    "std_dev2 = np.std(msample2)\n",
    "\n",
    "n1 = len(msample1)\n",
    "n2 = len(msample2)\n",
    "\n",
    "df = n1 + n2 -2"
   ]
  },
  {
   "cell_type": "markdown",
   "metadata": {
    "id": "7UyORHYhy8zj"
   },
   "source": [
    "Calculating necessary values and performing the test."
   ]
  },
  {
   "cell_type": "code",
   "execution_count": 64,
   "metadata": {
    "colab": {
     "base_uri": "https://localhost:8080/"
    },
    "id": "Ru18Grg0y9lw",
    "outputId": "ade774d3-46c9-4cd6-d866-7d650555d6ba"
   },
   "outputs": [
    {
     "name": "stdout",
     "output_type": "stream",
     "text": [
      "T_Calculated Value :  0.00072\n",
      "T_Tabulated Value :  2.7874\n"
     ]
    }
   ],
   "source": [
    "res = two_sample_t_same_population(mean_1, mean_2, n1, n2, std_dev1, std_dev2)\n",
    "\n",
    "t_calculated_m = res[0]\n",
    "\n",
    "print(\"T_Calculated Value : \", t_calculated_m)\n",
    "\n",
    "print(\"T_Tabulated Value : \", t_tabulated_m)"
   ]
  },
  {
   "cell_type": "code",
   "execution_count": 65,
   "metadata": {
    "colab": {
     "base_uri": "https://localhost:8080/"
    },
    "id": "_ikPJpgNzpAd",
    "outputId": "08d5c2ee-89b5-4a00-82ef-cd9668c9c71e"
   },
   "outputs": [
    {
     "name": "stdout",
     "output_type": "stream",
     "text": [
      "Result :  Accept the null hypothesis (H0)\n"
     ]
    }
   ],
   "source": [
    "# Perform the hypothesis test\n",
    "if abs(t_calculated_m) >= t_tabulated_m:\n",
    "    result_m = \"Reject the null hypothesis (H0) (or) Accepting alternate hypothesis (H1)\"\n",
    "else:\n",
    "    result_m = \"Accept the null hypothesis (H0)\"\n",
    "\n",
    "print('Result : ' , result_m)"
   ]
  },
  {
   "cell_type": "markdown",
   "metadata": {
    "id": "cmlsYvvBzx3y"
   },
   "source": [
    "Testing with the help of confidence interval."
   ]
  },
  {
   "cell_type": "code",
   "execution_count": 66,
   "metadata": {
    "colab": {
     "base_uri": "https://localhost:8080/"
    },
    "id": "yVoipX70z2Ej",
    "outputId": "064d2f80-1873-43a7-a28e-91a8d5fd6d38"
   },
   "outputs": [
    {
     "name": "stdout",
     "output_type": "stream",
     "text": [
      "Confidence Interval - (90%) : \n",
      "-17.12469303892037  < μ1 - μ2 <  22.399857874085157\n"
     ]
    }
   ],
   "source": [
    "sP = res[1] # Pooled Variance\n",
    "m_mean = abs(mean_1 - mean_2)\n",
    "\n",
    "temp = (1/(n1-1)) + (1/(n2-1))\n",
    "\n",
    "m_limit = t_tabulated_m * (sP * math.sqrt(temp))\n",
    "\n",
    "lower_limit = m_mean - limit\n",
    "upper_limit = m_mean + limit\n",
    "\n",
    "print(\"Confidence Interval - (90%) : \")\n",
    "\n",
    "print(lower_limit , \" < μ1 - μ2 < \" , upper_limit)"
   ]
  },
  {
   "cell_type": "code",
   "execution_count": null,
   "metadata": {
    "id": "Ghbq6BIlz88T"
   },
   "outputs": [],
   "source": []
  },
  {
   "cell_type": "markdown",
   "metadata": {
    "id": "DNf_8KpP0jCD"
   },
   "source": [
    "### Two Sample T-Test (Different population) :\n",
    "*(Two Samples are drawn from the different population)*\n",
    "\n",
    "Population : Birth Rate and Life expectancy\n",
    "\n",
    "H0 (Null Hypothesis) : The average  of both samples is same.\n",
    "\n",
    "H1 (Alternate Hypothesis) : The average  of both sample is not same."
   ]
  },
  {
   "cell_type": "markdown",
   "metadata": {
    "id": "5j190QN-0r1C"
   },
   "source": [
    "Defining Two Sample (*Different* Population) Z-Test function."
   ]
  },
  {
   "cell_type": "code",
   "execution_count": 67,
   "metadata": {
    "id": "f02ukLQY0kpU"
   },
   "outputs": [],
   "source": [
    "def two_sample_t_different_population(s_mean1, s_mean2, s_size1, s_size2, s_dev1, s_dev2):\n",
    "  temp1 = ((s_dev1)**2 / (s_size1 - 1))\n",
    "  temp2 = ((s_dev2)**2 / (s_size2 - 1))\n",
    "  den = math.sqrt(temp1 + temp2)\n",
    "  t_cal = abs(s_mean1 - s_mean2) / den\n",
    "  return [round(t_cal, 5), den]  # Round to 5 decimal places"
   ]
  },
  {
   "cell_type": "markdown",
   "metadata": {
    "id": "bSBGngjm07CY"
   },
   "source": [
    "Loading and storing the dataset and performing random sampling on it"
   ]
  },
  {
   "cell_type": "code",
   "execution_count": 68,
   "metadata": {
    "colab": {
     "base_uri": "https://localhost:8080/"
    },
    "id": "pCt277HV02LG",
    "outputId": "e6ac520e-f254-4b56-bf56-b6ce4b374741"
   },
   "outputs": [
    {
     "name": "stdout",
     "output_type": "stream",
     "text": [
      "\n",
      "Random Sample 1: (Birth)\n",
      "[17.6  14.   31.61  8.9  18.07 18.18 41.54 13.97 10.65  9.5  32.66 33.04\n",
      " 10.1  16.75 19.72 16.1  21.75]\n",
      "\n",
      "Random Sample 2: (Life)\n",
      "[64.3 69.8 71.2 73.6 76.5 67.3 75.  63.7 84.2 74.4 60.4 77.1 67.6]\n"
     ]
    }
   ],
   "source": [
    "# file_path = '/content/dataset_bank.csv'\n",
    "data_m = pd.read_csv(file_path)\n",
    "\n",
    "alpha_m = 0.05 # Level of significance\n",
    "\n",
    "t_tabulated_m = 2.0484 # Z_tab @ alpha = 0.10 and one-tailed test @ dof =28\n",
    "\n",
    "birth_rate = data['Birth Rate']\n",
    "life_expectancy = data['Life expectancy']\n",
    "\n",
    "# Create two random samples with sizes greater than 30\n",
    "m_sample1 = np.random.choice(birth_rate, size=17, replace=False)\n",
    "m_sample2 = np.random.choice(life_expectancy, size=13, replace=False)\n",
    "\n",
    "# Display the two random samples\n",
    "print(\"\\nRandom Sample 1: (Birth)\")\n",
    "print(m_sample1)\n",
    "print(\"\\nRandom Sample 2: (Life)\")\n",
    "print(m_sample2)\n",
    "\n",
    "mean_1 = np.mean(m_sample1)\n",
    "mean_2 = np.mean(m_sample2)\n",
    "\n",
    "std_dev1 = np.std(msample1)\n",
    "std_dev2 = np.std(msample2)\n",
    "\n",
    "n1 = len(m_sample1)\n",
    "n2 = len(m_sample2)\n",
    "\n",
    "df = n1 + n2 - 2"
   ]
  },
  {
   "cell_type": "code",
   "execution_count": 69,
   "metadata": {
    "colab": {
     "base_uri": "https://localhost:8080/"
    },
    "id": "nVZvgoAX1Zbm",
    "outputId": "2f649277-af4b-41c7-9d14-ae9c92261313"
   },
   "outputs": [
    {
     "name": "stdout",
     "output_type": "stream",
     "text": [
      "T_Calculated Value :  1.39132\n",
      "T_Tabulated Value :  2.0484\n"
     ]
    }
   ],
   "source": [
    "t_res = two_sample_z_different_population(mean_1, mean_2, n1, n2, std_dev1, std_dev2)\n",
    "\n",
    "t_calculated_ms = t_res[0]\n",
    "\n",
    "print(\"T_Calculated Value : \", t_calculated_ms)\n",
    "\n",
    "print(\"T_Tabulated Value : \", t_tabulated_m)"
   ]
  },
  {
   "cell_type": "code",
   "execution_count": 70,
   "metadata": {
    "colab": {
     "base_uri": "https://localhost:8080/"
    },
    "id": "mGUoZAqo1ah_",
    "outputId": "4b8a239e-604d-45e4-b6a8-641dc254978c"
   },
   "outputs": [
    {
     "name": "stdout",
     "output_type": "stream",
     "text": [
      "Result :  Accept the null hypothesis (H0)\n"
     ]
    }
   ],
   "source": [
    "# Perform the hypothesis test\n",
    "if abs(t_calculated_ms) >= t_tabulated_m:\n",
    "    result_ms = \"Reject the null hypothesis (H0) (or) Accepting alternate hypothesis (H1)\"\n",
    "else:\n",
    "    result_ms = \"Accept the null hypothesis (H0)\"\n",
    "\n",
    "print('Result : ' , result_ms)"
   ]
  },
  {
   "cell_type": "markdown",
   "metadata": {
    "id": "I6pG5tf91rup"
   },
   "source": [
    "Testing with the help of confidence interval!"
   ]
  },
  {
   "cell_type": "code",
   "execution_count": 71,
   "metadata": {
    "colab": {
     "base_uri": "https://localhost:8080/"
    },
    "id": "iVUwAwva1oYB",
    "outputId": "09b1ec1c-fb23-4a1c-e7ae-2bddb2a23065"
   },
   "outputs": [
    {
     "name": "stdout",
     "output_type": "stream",
     "text": [
      "Confidence Interval - (90%) : \n",
      "-24.324725631858712  < μ1 - μ2 <  127.33721431964153\n"
     ]
    }
   ],
   "source": [
    "tent = t_res[1]\n",
    "\n",
    "limit_ms = t_tabulated_m * (tent)\n",
    "\n",
    "ms_mean = abs(mean_1 - mean_2)\n",
    "\n",
    "lower_limit = ms_mean - limit_ms\n",
    "upper_limit = ms_mean + limit_ms\n",
    "\n",
    "print(\"Confidence Interval - (90%) : \")\n",
    "\n",
    "print(lower_limit , \" < μ1 - μ2 < \" , upper_limit)"
   ]
  },
  {
   "cell_type": "markdown",
   "metadata": {
    "id": "lNkOKPZgLyKn"
   },
   "source": [
    "### One Sample Proportion-Test (Unknown Variance) :\n",
    "\n",
    "H0 (Null Hypothesis) : The proportion of cpi is more than 0.40.\n",
    "\n",
    "H1 (Alternate Hypothesis) : The proportion of cpi is less than 0.40.\n"
   ]
  },
  {
   "cell_type": "markdown",
   "metadata": {
    "id": "lFlVf84VO79A"
   },
   "source": [
    "Seperating married clients and calculating necessary parameters!!"
   ]
  },
  {
   "cell_type": "code",
   "execution_count": 72,
   "metadata": {
    "colab": {
     "base_uri": "https://localhost:8080/"
    },
    "id": "pz09BacgMvpY",
    "outputId": "1afe792d-bbd3-4d04-a0de-74611f344a67"
   },
   "outputs": [
    {
     "name": "stdout",
     "output_type": "stream",
     "text": [
      "No of Entities :  84\n"
     ]
    }
   ],
   "source": [
    "# file_path = '/content/dataset_bank.csv'\n",
    "dataset = pd.read_csv(file_path)\n",
    "\n",
    "sample_size = 50\n",
    "\n",
    "sample = np.random.choice(data['CPI'], size=sample_size, replace=False)\n",
    "\n",
    "# Convert the sample to a Pandas DataFrame\n",
    "sample_df = pd.DataFrame({'CPI': sample})\n",
    "\n",
    "\n",
    "cpi = data['CPI']\n",
    "\n",
    "print(\"No of Entities : \", len(cpi))\n",
    "\n",
    "count_married = len(cpi)\n",
    "count_total = len(sample)\n"
   ]
  },
  {
   "cell_type": "markdown",
   "metadata": {
    "id": "VcIjJshVPBmo"
   },
   "source": [
    "Defining proportion one sample test function!!"
   ]
  },
  {
   "cell_type": "code",
   "execution_count": 73,
   "metadata": {
    "id": "nab_hbq7PFJn"
   },
   "outputs": [],
   "source": [
    "def calculate_z_proportion_one(p_sample,p_pop,s_size):\n",
    "    q_pop = 1 - p_pop\n",
    "    den = math.sqrt((p_pop * q_pop)/(s_size-1))\n",
    "    z_cal = abs(p_sample-p_pop) / den\n",
    "    return [round(z_cal, 5),den]"
   ]
  },
  {
   "cell_type": "markdown",
   "metadata": {
    "id": "tAeG-z_2RDpD"
   },
   "source": [
    "Calculating proportion parameters and testing the hypothesis!!"
   ]
  },
  {
   "cell_type": "code",
   "execution_count": 74,
   "metadata": {
    "colab": {
     "base_uri": "https://localhost:8080/"
    },
    "id": "EDvbOrA1ProK",
    "outputId": "8ccff0ee-6a97-455b-95c4-04b47a9a49f5"
   },
   "outputs": [
    {
     "name": "stdout",
     "output_type": "stream",
     "text": [
      "Z-Calculated :  18.28952\n",
      "Z-Tabulated :  1.645\n"
     ]
    }
   ],
   "source": [
    "p_sample = count_married / count_total\n",
    "p_pop = 0.40 # According to hypothesis\n",
    "\n",
    "z_tab = 1.645 # @ alpha = 0.05 and one-tailed test\n",
    "\n",
    "res = calculate_z_proportion_one(p_sample, p_pop, sample_size)\n",
    "\n",
    "z_calculated = res[0]\n",
    "\n",
    "den = res[1]\n",
    "\n",
    "print(\"Z-Calculated : \", z_calculated)\n",
    "print(\"Z-Tabulated : \", z_tab)"
   ]
  },
  {
   "cell_type": "code",
   "execution_count": 75,
   "metadata": {
    "colab": {
     "base_uri": "https://localhost:8080/"
    },
    "id": "CZXNJa5eSUUE",
    "outputId": "447147fb-1ad1-4d0a-ec2f-a691075ecd0a"
   },
   "outputs": [
    {
     "name": "stdout",
     "output_type": "stream",
     "text": [
      "Result :  Reject the null hypothesis (H0) (or) Accepting alternate hypothesis (H1)\n"
     ]
    }
   ],
   "source": [
    "# Perform the hypothesis test\n",
    "if abs(z_calculated) >= z_tab:\n",
    "    result = \"Reject the null hypothesis (H0) (or) Accepting alternate hypothesis (H1)\"\n",
    "else:\n",
    "    result = \"Accept the null hypothesis (H0)\"\n",
    "\n",
    "print('Result : ' , result)"
   ]
  },
  {
   "cell_type": "markdown",
   "metadata": {
    "id": "GjkAolPqSd4P"
   },
   "source": [
    "Testing using the confidence intervals!!"
   ]
  },
  {
   "cell_type": "code",
   "execution_count": 76,
   "metadata": {
    "colab": {
     "base_uri": "https://localhost:8080/"
    },
    "id": "bW3yaPSJSdQX",
    "outputId": "985c41b5-58a5-447c-a927-f3c3dce4e720"
   },
   "outputs": [
    {
     "name": "stdout",
     "output_type": "stream",
     "text": [
      "Confidence Interval - (95%) : \n",
      "1.5648739820891906  < p <  1.7951260179108093\n"
     ]
    }
   ],
   "source": [
    "limit = z_tab * (den)\n",
    "\n",
    "lower_limit = p_sample - limit\n",
    "upper_limit = p_sample + limit\n",
    "\n",
    "print(\"Confidence Interval - (95%) : \")\n",
    "\n",
    "print(lower_limit , \" < p < \" , upper_limit)"
   ]
  }
 ],
 "metadata": {
  "colab": {
   "collapsed_sections": [
    "FrnR1Ft8CQMu",
    "M3rqniDsSQd_",
    "Z71PRcL_aC9u",
    "-78drnHQ5e5l",
    "P2iqivuaByR3",
    "_LuWx0b_xOLs",
    "DNf_8KpP0jCD",
    "0wZsd_mIDbZP",
    "lNkOKPZgLyKn",
    "sjOVMb9XTKn7"
   ],
   "provenance": []
  },
  "kernelspec": {
   "display_name": "Python 3 (ipykernel)",
   "language": "python",
   "name": "python3"
  },
  "language_info": {
   "codemirror_mode": {
    "name": "ipython",
    "version": 3
   },
   "file_extension": ".py",
   "mimetype": "text/x-python",
   "name": "python",
   "nbconvert_exporter": "python",
   "pygments_lexer": "ipython3",
   "version": "3.10.11"
  }
 },
 "nbformat": 4,
 "nbformat_minor": 4
}
